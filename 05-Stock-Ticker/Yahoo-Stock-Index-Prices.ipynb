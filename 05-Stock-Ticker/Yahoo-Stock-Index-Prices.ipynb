{
 "cells": [
  {
   "cell_type": "markdown",
   "metadata": {},
   "source": [
    "# Yahoo Stock-Index Prices for Stock Ticker Program"
   ]
  },
  {
   "cell_type": "code",
   "execution_count": 1,
   "metadata": {},
   "outputs": [],
   "source": [
    "from bs4 import BeautifulSoup\n",
    "from time import sleep\n",
    "import requests\n",
    "import lxml"
   ]
  },
  {
   "cell_type": "markdown",
   "metadata": {},
   "source": [
    "## Lookup and extract latest index prices"
   ]
  },
  {
   "cell_type": "code",
   "execution_count": 2,
   "metadata": {},
   "outputs": [],
   "source": [
    "# S&P 500, DOW 30, NASDAQ, Russell 2000\n",
    "index = ['^GSPC', '^DJI', '^IXIC', '^RUT']\n",
    "\n",
    "# template url where index is inserted\n",
    "url = 'https://finance.yahoo.com/quote/{}?p={}'"
   ]
  },
  {
   "cell_type": "code",
   "execution_count": 3,
   "metadata": {},
   "outputs": [],
   "source": [
    "html_data = {}\n",
    "\n",
    "# look up all of the index prices and save to dictionary\n",
    "for x in index:\n",
    "    new_url = url.format(x, x)\n",
    "    r = requests.get(new_url)\n",
    "    html_data[x] = r.text"
   ]
  },
  {
   "cell_type": "code",
   "execution_count": 4,
   "metadata": {},
   "outputs": [],
   "source": [
    "def parse_html(html_data):\n",
    "    \n",
    "    stock_ticker_data = []\n",
    "    \n",
    "    for stock, html in html_data.items():\n",
    "        soup = BeautifulSoup(html, 'lxml')\n",
    "        \n",
    "        # current stock price\n",
    "        price = soup.find('span',{'class':\"Trsdu(0.3s)\"})\n",
    "        \n",
    "        # change by amount and percent\n",
    "        change_amt, change_pct = price.find_next_sibling().span.text.split(' ')\n",
    "        \n",
    "        # remove parenthesis around the change percent\n",
    "        #change_pct = change_pct.replace(')','').replace('(','')\n",
    "        \n",
    "        # market close notice\n",
    "        status, last_update = soup.find('div',{'id':'quote-market-notice'}).span.text.split(':  ')\n",
    "        \n",
    "        # save ticker data to list\n",
    "        stock_ticker_data.append((stock, price.text.strip(), change_amt, change_pct, last_update))\n",
    "        \n",
    "    return stock_ticker_data"
   ]
  },
  {
   "cell_type": "code",
   "execution_count": 5,
   "metadata": {},
   "outputs": [],
   "source": [
    "stock_ticker_data = parse_html(html_data)"
   ]
  },
  {
   "cell_type": "markdown",
   "metadata": {},
   "source": [
    "## Print the stock ticker information"
   ]
  },
  {
   "cell_type": "code",
   "execution_count": 6,
   "metadata": {},
   "outputs": [
    {
     "name": "stdout",
     "output_type": "stream",
     "text": [
      "^GSPC : 5:16PM EDT\n",
      "3,009.57 +8.64 (+0.29%)\n",
      "\n",
      "^DJI : 5:16PM EDT\n",
      "27,182.45 +45.41 (+0.17%)\n",
      "\n",
      "^IXIC : 5:15PM EDT\n",
      "8,194.47 +24.79 (+0.30%)\n",
      "\n",
      "^RUT : 4:30PM EDT\n",
      "1,575.07 -0.65 (-0.04%)\n",
      "\n"
     ]
    }
   ],
   "source": [
    "for row in stock_ticker_data:\n",
    "    stock, price, change_amt, change_pct, last_update = row\n",
    "    print(stock, ':', last_update)\n",
    "    print(price, change_amt, change_pct)\n",
    "    print()\n",
    "    sleep(2)"
   ]
  }
 ],
 "metadata": {
  "kernelspec": {
   "display_name": "Python 3",
   "language": "python",
   "name": "python3"
  },
  "language_info": {
   "codemirror_mode": {
    "name": "ipython",
    "version": 3
   },
   "file_extension": ".py",
   "mimetype": "text/x-python",
   "name": "python",
   "nbconvert_exporter": "python",
   "pygments_lexer": "ipython3",
   "version": "3.7.3"
  }
 },
 "nbformat": 4,
 "nbformat_minor": 2
}
